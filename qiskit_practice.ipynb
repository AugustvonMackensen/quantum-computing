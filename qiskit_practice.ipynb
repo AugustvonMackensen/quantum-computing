{
 "cells": [
  {
   "cell_type": "markdown",
   "id": "8d885d69003df3d0",
   "metadata": {},
   "source": [
    "# Qiskit 설치\n",
    "- pip install qiskit 명령어로 qiskit을 설치한다.\n",
    "- pip install qiskit-aer로 aer 시뮬레이터 설치\n",
    "- qiskit-aer은 ibm에서 만든 opensdk 시물레이터"
   ]
  },
  {
   "cell_type": "code",
   "execution_count": null,
   "id": "9e46b44ef36480e2",
   "metadata": {
    "ExecuteTime": {
     "end_time": "2025-03-26T06:03:54.458694Z",
     "start_time": "2025-03-26T06:03:52.359373Z"
    }
   },
   "outputs": [],
   "source": [
    "# Package Import \n",
    "\n",
    "from qiskit import QuantumCircuit\n",
    "from qiskit_aer import Aer\n",
    "from qiskit.visualization import plot_histogram\n",
    "from qiskit import transpile"
   ]
  },
  {
   "cell_type": "markdown",
   "id": "d8bff3375b86aef1",
   "metadata": {},
   "source": [
    "- QuantumCircuit : 양자 회로를 생성하고 조작하는 클래스\n",
    "- Aer: 양자 회로 시뮬레이터\n",
    "- plot_histogram : 측정 결과를 히스토그램으로 시각화하는 함수\n",
    "- transpile : 양자회로를 특정 백엔드에서 실행 가능한 상태로 변환"
   ]
  },
  {
   "cell_type": "code",
   "execution_count": 2,
   "id": "5279237a84ccae8e",
   "metadata": {
    "ExecuteTime": {
     "end_time": "2025-03-26T07:56:42.592133Z",
     "start_time": "2025-03-26T07:56:42.422058Z"
    }
   },
   "outputs": [],
   "source": [
    "qc = QuantumCircuit(2, 1) # 2 qubits and 1 classical bit"
   ]
  },
  {
   "cell_type": "markdown",
   "id": "6a31f56f17e1b60a",
   "metadata": {},
   "source": [
    "2개의 큐빗과 1개의 고전 비트로 형성\n",
    "- 첫 번째 큐빗 : 입력 큐빗\n",
    "- 두 번째 큐빗 : 보조 큐빗\n",
    "- 고전 비트 : 측정결과 저장"
   ]
  },
  {
   "cell_type": "code",
   "execution_count": 3,
   "id": "79ebb962c3a41362",
   "metadata": {
    "ExecuteTime": {
     "end_time": "2025-03-26T07:57:33.738776Z",
     "start_time": "2025-03-26T07:57:33.691962Z"
    }
   },
   "outputs": [
    {
     "data": {
      "text/plain": [
       "<qiskit.circuit.instructionset.InstructionSet at 0x15a745a4d60>"
      ]
     },
     "execution_count": 3,
     "metadata": {},
     "output_type": "execute_result"
    }
   ],
   "source": [
    "qc.x(1) # apply x gate to the second qubit"
   ]
  },
  {
   "cell_type": "code",
   "execution_count": 4,
   "id": "f6bfdaabd546564f",
   "metadata": {
    "ExecuteTime": {
     "end_time": "2025-03-26T07:57:50.145814Z",
     "start_time": "2025-03-26T07:57:50.140974Z"
    }
   },
   "outputs": [
    {
     "data": {
      "text/plain": [
       "<qiskit.circuit.instructionset.InstructionSet at 0x15a744c5090>"
      ]
     },
     "execution_count": 4,
     "metadata": {},
     "output_type": "execute_result"
    }
   ],
   "source": [
    "# 아다마르 게이트 적용\n",
    "qc.h(0)\n",
    "qc.h(1)"
   ]
  },
  {
   "cell_type": "code",
   "execution_count": 5,
   "id": "96fa70b49cd12143",
   "metadata": {
    "ExecuteTime": {
     "end_time": "2025-03-26T07:58:00.256559Z",
     "start_time": "2025-03-26T07:58:00.251815Z"
    }
   },
   "outputs": [
    {
     "data": {
      "text/plain": [
       "<qiskit.circuit.instructionset.InstructionSet at 0x15a745a48e0>"
      ]
     },
     "execution_count": 5,
     "metadata": {},
     "output_type": "execute_result"
    }
   ],
   "source": [
    "# 오라클 함수 적용\n",
    "qc.cx(0,1)"
   ]
  },
  {
   "cell_type": "code",
   "execution_count": 6,
   "id": "ccff7da53931e724",
   "metadata": {
    "ExecuteTime": {
     "end_time": "2025-03-26T07:58:12.242084Z",
     "start_time": "2025-03-26T07:58:12.233361Z"
    }
   },
   "outputs": [
    {
     "data": {
      "text/plain": [
       "<qiskit.circuit.instructionset.InstructionSet at 0x15a745a5c30>"
      ]
     },
     "execution_count": 6,
     "metadata": {},
     "output_type": "execute_result"
    }
   ],
   "source": [
    "# 두 번째 아다마르 게이트\n",
    "qc.h(0)"
   ]
  },
  {
   "cell_type": "code",
   "execution_count": 7,
   "id": "84475cc422a66a32",
   "metadata": {
    "ExecuteTime": {
     "end_time": "2025-03-26T07:58:28.380420Z",
     "start_time": "2025-03-26T07:58:28.353948Z"
    }
   },
   "outputs": [
    {
     "data": {
      "text/plain": [
       "<qiskit.circuit.instructionset.InstructionSet at 0x15a745a4940>"
      ]
     },
     "execution_count": 7,
     "metadata": {},
     "output_type": "execute_result"
    }
   ],
   "source": [
    "qc.measure(0, 0) # measure the first qubit"
   ]
  },
  {
   "cell_type": "code",
   "execution_count": 8,
   "id": "1f267616df78f424",
   "metadata": {
    "ExecuteTime": {
     "end_time": "2025-03-26T07:59:33.540180Z",
     "start_time": "2025-03-26T07:59:33.181022Z"
    }
   },
   "outputs": [],
   "source": [
    "# simulation\n",
    "simulator = Aer.get_backend('qasm_simulator')\n",
    "transpiled_circuit = transpile(qc, simulator)\n",
    "job = simulator.run(transpiled_circuit, shots=1024)\n",
    "results = job.result()\n",
    "counts = results.get_counts()"
   ]
  },
  {
   "cell_type": "code",
   "execution_count": 9,
   "id": "73f39315e02521d2",
   "metadata": {
    "ExecuteTime": {
     "end_time": "2025-03-26T08:00:07.599871Z",
     "start_time": "2025-03-26T08:00:05.636096Z"
    }
   },
   "outputs": [
    {
     "name": "stdout",
     "output_type": "stream",
     "text": [
      "\n",
      " Measurement results : {'1': 1024}\n"
     ]
    },
    {
     "data": {
      "image/png": "[encoded data removed]",
      "text/plain": [
       "<Figure size 640x480 with 1 Axes>"
      ]
     },
     "execution_count": 9,
     "metadata": {},
     "output_type": "execute_result"
    }
   ],
   "source": [
    "# 결과 출력\n",
    "print(f'\\n Measurement results : {counts}')\n",
    "plot_histogram(counts)"
   ]
  }
 ],
 "metadata": {
  "kernelspec": {
   "display_name": ".venv",
   "language": "python",
   "name": "python3"
  },
  "language_info": {
   "codemirror_mode": {
    "name": "ipython",
    "version": 2
   },
   "file_extension": ".py",
   "mimetype": "text/x-python",
   "name": "python",
   "nbconvert_exporter": "python",
   "pygments_lexer": "ipython2",
   "version": "3.12.2"
  }
 },
 "nbformat": 4,
 "nbformat_minor": 5
}
